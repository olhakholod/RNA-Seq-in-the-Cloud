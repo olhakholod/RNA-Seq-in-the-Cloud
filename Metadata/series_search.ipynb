{
 "cells": [
  {
   "cell_type": "markdown",
   "metadata": {},
   "source": [
    "# Series Finder  \n",
    "\n",
    "## Find ordered samples based on real-valued variables in the Metadata"
   ]
  },
  {
   "cell_type": "markdown",
   "metadata": {},
   "source": [
    "__Import dependencies and load data__"
   ]
  },
  {
   "cell_type": "code",
   "execution_count": null,
   "metadata": {},
   "outputs": [],
   "source": [
    "%load_ext rpy2.ipython"
   ]
  },
  {
   "cell_type": "code",
   "execution_count": null,
   "metadata": {},
   "outputs": [],
   "source": [
    "%%bash\n",
    "wget https://cran.r-project.org/src/contrib/rjson_0.2.20.tar.gz\n",
    "R CMD INSTALL rjson_0.2.20.tar.gz"
   ]
  },
  {
   "cell_type": "code",
   "execution_count": null,
   "metadata": {},
   "outputs": [],
   "source": [
    "%%R\n",
    "library(rjson)"
   ]
  },
  {
   "cell_type": "code",
   "execution_count": null,
   "metadata": {},
   "outputs": [],
   "source": [
    "import json\n",
    "import pandas as pd\n",
    "from functions import *\n",
    "\n",
    "experiment_to_terms_f_json = './data/experiment_to_terms.json'\n",
    "term_name_to_id_f = './data/term_name_to_id.json'\n",
    "experiments_in_hackathon_data_f = './data/experiments_in_hackathon_data.json'\n",
    "experiment_to_type_f = './data/experiment_to_type.json'\n",
    "experiment_to_study_f = './data/experiment_to_study.json'\n",
    "experiment_to_real_value_terms_f = './data/experiment_to_real_value_terms.json'\n",
    "experiment_to_runs_f = './data/experiment_to_runs.json'\n",
    "\n",
    "with open(experiment_to_terms_f_json, 'r') as f:\n",
    "    sample_to_terms = json.load(f)    \n",
    "with open(term_name_to_id_f, 'r') as f:\n",
    "    term_name_to_id = json.load(f)\n",
    "with open(experiments_in_hackathon_data_f, 'r') as f:\n",
    "    available = set(json.load(f))\n",
    "with open(experiment_to_type_f, 'r') as f:\n",
    "    sample_to_type = json.load(f)\n",
    "with open(experiment_to_study_f, 'r') as f:\n",
    "    sample_to_study = json.load(f)\n",
    "with open(experiment_to_real_value_terms_f, 'r') as f:\n",
    "    sample_to_real_val = json.load(f)\n",
    "with open(experiment_to_runs_f, 'r') as f:\n",
    "    sample_to_runs = json.load(f)"
   ]
  },
  {
   "cell_type": "code",
   "execution_count": null,
   "metadata": {},
   "outputs": [],
   "source": [
    "%%R\n",
    "metadata_file_tsv <- read.table(file = \"./data/experiment_to_terms.tsv\", header = FALSE, sep = \"\\t\")"
   ]
  },
  {
   "cell_type": "markdown",
   "metadata": {},
   "source": [
    "__1. Enter your query__  \n",
    "\n",
    "Enter your target term in place of `'blood'`, your target property in place of `'age'`, and your target unit in place of `None`.\n",
    "\n",
    "(Note: most samples in the SRA do not have unit information. We advise leaving this as `None` for properties in which the unit is implied (e.g. age is usually expressed in years)."
   ]
  },
  {
   "cell_type": "code",
   "execution_count": null,
   "metadata": {},
   "outputs": [],
   "source": [
    "term = 'blood' ## <-- INPUT HERE\n",
    "target_property = 'age' ## <-- INPUT HERE\n",
    "target_unit = 'year' ## <-- INPUT HERE"
   ]
  },
  {
   "cell_type": "markdown",
   "metadata": {},
   "source": [
    "__2. List terms below to remove__  \n",
    "In the example below, `'disease', 'disease of cellular proliferation'` will be removed from all timepoints"
   ]
  },
  {
   "cell_type": "code",
   "execution_count": null,
   "metadata": {},
   "outputs": [],
   "source": [
    "blacklist_terms = set([\n",
    "    'disease', \n",
    "    'disease of cellular proliferation'\n",
    "]) ## <-- INPUT HERE"
   ]
  },
  {
   "cell_type": "markdown",
   "metadata": {},
   "source": [
    "__3. Search for ordered samples__"
   ]
  },
  {
   "cell_type": "code",
   "execution_count": null,
   "metadata": {},
   "outputs": [],
   "source": [
    "val_to_samples, primary_df = series(term, target_property, sample_to_real_val, sample_to_terms,             \n",
    "        sample_to_type, sample_to_study, term_name_to_id, blacklist_terms, \n",
    "        filter_poor=False, filter_cell_line=True, filter_differentiated=True,\n",
    "        value_limit=100, target_unit=None)"
   ]
  },
  {
   "cell_type": "markdown",
   "metadata": {},
   "source": [
    "These are time points that were found:"
   ]
  },
  {
   "cell_type": "code",
   "execution_count": null,
   "metadata": {},
   "outputs": [],
   "source": [
    "df = pd.DataFrame(data=[(k,len(v)) for k,v in val_to_samples.items()], columns=[target_property, 'Number of samples'])\n",
    "df.sort_values(target_property)"
   ]
  },
  {
   "cell_type": "markdown",
   "metadata": {},
   "source": [
    "__4. Browse other metadata terms that are associated with samples in a given time point__"
   ]
  },
  {
   "cell_type": "markdown",
   "metadata": {},
   "source": [
    "Enter whether you want to view cases or controls. Assign the following variable to the number corresponding to the timepoint you would like to view:"
   ]
  },
  {
   "cell_type": "code",
   "execution_count": null,
   "metadata": {},
   "outputs": [],
   "source": [
    "view_value = 38 ## <-- INPUT HERE\n",
    "\n",
    "if view_value in val_to_samples:\n",
    "    samples = list(val_to_samples[view_value])\n",
    "with open('./data/term-in.json', 'w') as f:\n",
    "    json.dump(samples, f)\n",
    "    \n",
    "print(\"Displaying data for %d sample with %s=%d\" % (len(samples), target_property, view_value))"
   ]
  },
  {
   "cell_type": "markdown",
   "metadata": {},
   "source": [
    "The following plots the proportion of metadata terms for those terms that appear in at least 10% of the samples in the current subset:"
   ]
  },
  {
   "cell_type": "code",
   "execution_count": null,
   "metadata": {},
   "outputs": [],
   "source": [
    "%%R\n",
    "source(\"./Metadata_plot.R\")\n",
    "bp"
   ]
  },
  {
   "cell_type": "code",
   "execution_count": null,
   "metadata": {},
   "outputs": [],
   "source": [
    "%%R\n",
    "source(\"./Metadata_table.R\")"
   ]
  },
  {
   "cell_type": "code",
   "execution_count": null,
   "metadata": {},
   "outputs": [],
   "source": [
    "%%R\n",
    "source(\"./Metadata_piecharts.R\")"
   ]
  },
  {
   "cell_type": "markdown",
   "metadata": {},
   "source": [
    "__5. Produce output file__. \n",
    "\n",
    "Enter the filename for which you would like to output these samples:"
   ]
  },
  {
   "cell_type": "code",
   "execution_count": null,
   "metadata": {},
   "outputs": [],
   "source": [
    "output_file = 'series_data.csv' ## <- OUTPUT FILE HERE\n",
    "\n",
    "primary_df.to_csv(output_file)"
   ]
  }
 ],
 "metadata": {
  "kernelspec": {
   "display_name": "Python 3",
   "language": "python",
   "name": "python3"
  },
  "language_info": {
   "codemirror_mode": {
    "name": "ipython",
    "version": 3
   },
   "file_extension": ".py",
   "mimetype": "text/x-python",
   "name": "python",
   "nbconvert_exporter": "python",
   "pygments_lexer": "ipython3",
   "version": "3.6.7"
  }
 },
 "nbformat": 4,
 "nbformat_minor": 2
}
