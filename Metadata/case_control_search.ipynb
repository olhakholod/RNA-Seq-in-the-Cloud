{
 "cells": [
  {
   "cell_type": "markdown",
   "metadata": {},
   "source": [
    "# Case-Control Finder  \n",
    "## Finds cases and controls for a given condition within the Sequence Read Archive"
   ]
  },
  {
   "cell_type": "markdown",
   "metadata": {},
   "source": [
    "__Import dependencies and load data__"
   ]
  },
  {
   "cell_type": "code",
   "execution_count": null,
   "metadata": {},
   "outputs": [],
   "source": [
    "%load_ext rpy2.ipython"
   ]
  },
  {
   "cell_type": "code",
   "execution_count": null,
   "metadata": {},
   "outputs": [],
   "source": [
    "%%bash\n",
    "wget https://cran.r-project.org/src/contrib/rjson_0.2.20.tar.gz\n",
    "R CMD INSTALL rjson_0.2.20.tar.gz"
   ]
  },
  {
   "cell_type": "code",
   "execution_count": null,
   "metadata": {},
   "outputs": [],
   "source": [
    "%%R\n",
    "library(rjson)"
   ]
  },
  {
   "cell_type": "code",
   "execution_count": null,
   "metadata": {},
   "outputs": [],
   "source": [
    "import json\n",
    "import pandas as pd\n",
    "from functions import *\n",
    "\n",
    "experiment_to_terms_f_json = './data/experiment_to_terms.json'\n",
    "term_name_to_id_f = './data/term_name_to_id.json'\n",
    "experiments_in_hackathon_data_f = './data/experiments_in_hackathon_data.json'\n",
    "experiment_to_type_f = './data/experiment_to_type.json'\n",
    "experiment_to_study_f = './data/experiment_to_study.json'\n",
    "experiment_to_real_value_terms_f = './data/experiment_to_real_value_terms.json'\n",
    "experiment_to_runs_f = './data/experiment_to_runs.json'\n",
    "\n",
    "with open(experiment_to_terms_f_json, 'r') as f:\n",
    "    sample_to_terms = json.load(f)    \n",
    "with open(term_name_to_id_f, 'r') as f:\n",
    "    term_name_to_id = json.load(f)\n",
    "with open(experiments_in_hackathon_data_f, 'r') as f:\n",
    "    available = set(json.load(f))\n",
    "with open(experiment_to_type_f, 'r') as f:\n",
    "    sample_to_type = json.load(f)\n",
    "with open(experiment_to_study_f, 'r') as f:\n",
    "    sample_to_study = json.load(f)\n",
    "with open(experiment_to_real_value_terms_f, 'r') as f:\n",
    "    sample_to_real_val = json.load(f)\n",
    "with open(experiment_to_runs_f, 'r') as f:\n",
    "    sample_to_runs = json.load(f)\n",
    "    \n",
    "filter_available = True\n",
    "if filter_available:\n",
    "    sample_to_terms = {\n",
    "        k:v for k,v in sample_to_terms.items()  \n",
    "        if k in available\n",
    "    }"
   ]
  },
  {
   "cell_type": "code",
   "execution_count": null,
   "metadata": {},
   "outputs": [],
   "source": [
    "%%R\n",
    "metadata_file_tsv <- read.table(file = \"./data/experiment_to_terms.tsv\", header = FALSE, sep = \"\\t\")"
   ]
  },
  {
   "cell_type": "markdown",
   "metadata": {},
   "source": [
    "__1. Type in the term you are looking for (in place of `'glioblastoma multiforme'`)__"
   ]
  },
  {
   "cell_type": "code",
   "execution_count": null,
   "metadata": {},
   "outputs": [],
   "source": [
    "term = 'glioblastoma multiforme' ## <-- INPUT HERE"
   ]
  },
  {
   "cell_type": "markdown",
   "metadata": {},
   "source": [
    "__2. List terms below to remove from control set__  \n",
    "\n",
    "\n",
    "In the example below, `'disease', 'disease of cellular proliferation'` will be removed from the controls"
   ]
  },
  {
   "cell_type": "code",
   "execution_count": null,
   "metadata": {},
   "outputs": [],
   "source": [
    "blacklist_terms = set([\n",
    "    'disease', \n",
    "    'disease of cellular proliferation'\n",
    "]) ## <-- INPUT HERE"
   ]
  },
  {
   "cell_type": "markdown",
   "metadata": {},
   "source": [
    "__3. Create case and controls__"
   ]
  },
  {
   "cell_type": "code",
   "execution_count": null,
   "metadata": {},
   "outputs": [],
   "source": [
    "case, control = term_to_run(sample_to_terms, term)\n",
    "ret = match_case_to_controls(term, control, case, sample_to_terms,\n",
    "    sample_to_study, blacklist_terms, term_name_to_id, sample_to_type,\n",
    "    filter_poor=True, filter_cell_line=True, filter_differentiated=True,\n",
    "    sample_to_runs=sample_to_runs, by_run=False)\n",
    "df = ret[0]\n",
    "control_confound = ret[1]\n",
    "case_confound = ret[2]\n",
    "tissue_intersections = ret[3]"
   ]
  },
  {
   "cell_type": "markdown",
   "metadata": {},
   "source": [
    "These are the tissues and cell types we could match between cases and controls:"
   ]
  },
  {
   "cell_type": "code",
   "execution_count": null,
   "metadata": {},
   "outputs": [],
   "source": [
    "pd.Series(sorted(tissue_intersections))"
   ]
  },
  {
   "cell_type": "markdown",
   "metadata": {},
   "source": [
    "Here's a sample of some of the cases:"
   ]
  },
  {
   "cell_type": "code",
   "execution_count": null,
   "metadata": {},
   "outputs": [],
   "source": [
    "df.loc[(df['condition'] == 'case')].head()"
   ]
  },
  {
   "cell_type": "markdown",
   "metadata": {},
   "source": [
    "Here's a sample of some of the controls:"
   ]
  },
  {
   "cell_type": "code",
   "execution_count": null,
   "metadata": {},
   "outputs": [],
   "source": [
    "df.loc[(df['condition'] == 'control')].head()"
   ]
  },
  {
   "cell_type": "markdown",
   "metadata": {},
   "source": [
    "__4. Browse other metadata terms that are associated with cases and controls__"
   ]
  },
  {
   "cell_type": "markdown",
   "metadata": {},
   "source": [
    "Enter whether you want to view cases or controls. Assign the following variable to `True` to view cases or `False` to view controls:"
   ]
  },
  {
   "cell_type": "code",
   "execution_count": null,
   "metadata": {},
   "outputs": [],
   "source": [
    "view_cases = False ## <-- INPUT HERE"
   ]
  },
  {
   "cell_type": "markdown",
   "metadata": {},
   "source": [
    "Enter the tissue or cell type on which to subset your samples:"
   ]
  },
  {
   "cell_type": "code",
   "execution_count": null,
   "metadata": {},
   "outputs": [],
   "source": [
    "term = 'blood' ## <-- INPUT HERE\n",
    "\n",
    "if view_cases:\n",
    "    condition = 'case'\n",
    "else:\n",
    "    condition = 'control'\n",
    "view_exps = select_case_control_experiment_set(df, condition, term)\n",
    "with open('./data/term-in.json', 'w') as f:\n",
    "    json.dump(view_exps, f)"
   ]
  },
  {
   "cell_type": "markdown",
   "metadata": {},
   "source": [
    "The following plots the proportion of metadata terms for those terms that appear in at least 10% of the samples in the current subset:"
   ]
  },
  {
   "cell_type": "code",
   "execution_count": null,
   "metadata": {},
   "outputs": [],
   "source": [
    "%%R\n",
    "source(\"./Metadata_plot.R\")\n",
    "bp"
   ]
  },
  {
   "cell_type": "code",
   "execution_count": null,
   "metadata": {},
   "outputs": [],
   "source": [
    "%%R\n",
    "source(\"./Metadata_table.R\")\n",
    "query_disease_metadata_top10_table"
   ]
  },
  {
   "cell_type": "code",
   "execution_count": null,
   "metadata": {},
   "outputs": [],
   "source": [
    "%%R\n",
    "source(\"./Metadata_piecharts.R\")\n",
    "query_cell_line"
   ]
  },
  {
   "cell_type": "markdown",
   "metadata": {},
   "source": [
    "__5. Create output file__"
   ]
  },
  {
   "cell_type": "markdown",
   "metadata": {},
   "source": [
    "Enter the filename for which you would like to output these cases or controls:"
   ]
  },
  {
   "cell_type": "code",
   "execution_count": null,
   "metadata": {},
   "outputs": [],
   "source": [
    "output_file = 'cases_vs_controls.csv' ## <- OUTPUT FILE HERE\n",
    "\n",
    "df.to_csv(output_file)"
   ]
  }
 ],
 "metadata": {
  "kernelspec": {
   "display_name": "Python 3",
   "language": "python",
   "name": "python3"
  },
  "language_info": {
   "codemirror_mode": {
    "name": "ipython",
    "version": 3
   },
   "file_extension": ".py",
   "mimetype": "text/x-python",
   "name": "python",
   "nbconvert_exporter": "python",
   "pygments_lexer": "ipython3",
   "version": "3.6.7"
  }
 },
 "nbformat": 4,
 "nbformat_minor": 2
}
